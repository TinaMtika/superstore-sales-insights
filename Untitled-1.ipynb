{
 "cells": [
  {
   "cell_type": "code",
   "execution_count": null,
   "id": "f220ee63",
   "metadata": {},
   "outputs": [],
   "source": [
    "ls\n"
   ]
  }
 ],
 "metadata": {
  "language_info": {
   "name": "python"
  }
 },
 "nbformat": 4,
 "nbformat_minor": 5
}
